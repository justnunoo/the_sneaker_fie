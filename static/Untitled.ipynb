{
 "cells": [
  {
   "cell_type": "code",
   "execution_count": 1,
   "id": "29525993",
   "metadata": {},
   "outputs": [
    {
     "name": "stdout",
     "output_type": "stream",
     "text": [
      "Requirement already satisfied: opencv-python in c:\\users\\anita\\anaconda3\\lib\\site-packages (4.8.1.78)\n",
      "Requirement already satisfied: numpy>=1.17.0 in c:\\users\\anita\\anaconda3\\lib\\site-packages (from opencv-python) (1.23.5)\n",
      "Requirement already satisfied: pathlib in c:\\users\\anita\\anaconda3\\lib\\site-packages (1.0.1)\n"
     ]
    }
   ],
   "source": [
    "!pip install opencv-python\n",
    "!pip install pathlib"
   ]
  },
  {
   "cell_type": "code",
   "execution_count": 1,
   "id": "a39b4c64",
   "metadata": {},
   "outputs": [],
   "source": [
    "import cv2 as cv\n",
    "import numpy as np\n",
    "import pathlib"
   ]
  },
  {
   "cell_type": "code",
   "execution_count": 2,
   "id": "4d214021",
   "metadata": {},
   "outputs": [],
   "source": [
    "import os"
   ]
  },
  {
   "cell_type": "code",
   "execution_count": 9,
   "id": "efdba1c2",
   "metadata": {},
   "outputs": [],
   "source": [
    "dir_ = './'\n",
    "data_dir = pathlib.Path(dir_)"
   ]
  },
  {
   "cell_type": "code",
   "execution_count": 10,
   "id": "f8a0c49d",
   "metadata": {},
   "outputs": [
    {
     "data": {
      "text/plain": [
       "4"
      ]
     },
     "execution_count": 10,
     "metadata": {},
     "output_type": "execute_result"
    }
   ],
   "source": [
    "data_size = len(list(data_dir.glob('*/*.jpeg')))\n",
    "data_size"
   ]
  },
  {
   "cell_type": "code",
   "execution_count": 13,
   "id": "5f0bbd84",
   "metadata": {},
   "outputs": [],
   "source": [
    "import os\n",
    "import cv2\n",
    "\n",
    "def resize_images(folder_path, target_size=(592, 592)):\n",
    "    # Iterate through all files in the folder and its subfolders\n",
    "    for root, dirs, files in os.walk(folder_path):\n",
    "        for file in files:\n",
    "            # Check if the file is an image (you can extend the list of supported image formats)\n",
    "            if file.lower().endswith(('.png', '.jpg', '.jpeg', '.gif', '.bmp', '.webp')):\n",
    "                # Construct the full path to the image\n",
    "                image_path = os.path.join(root, file)\n",
    "\n",
    "                # Read the image using OpenCV\n",
    "                image = cv2.imread(image_path)\n",
    "\n",
    "                # Resize the image to the target size\n",
    "                resized_image = cv2.resize(image, target_size)\n",
    "\n",
    "                # Save the resized image, overwriting the original\n",
    "                cv2.imwrite(image_path, resized_image)\n",
    "\n",
    "                print(f\"Resized: {image_path}\")\n",
    "                print('Done')\n",
    "\n",
    "# Replace 'your_folder_path' with the path to your root folder containing images\n",
    "resize_images('your_folder_path')\n"
   ]
  },
  {
   "cell_type": "code",
   "execution_count": 14,
   "id": "08b51abf",
   "metadata": {},
   "outputs": [
    {
     "name": "stdout",
     "output_type": "stream",
     "text": [
      "Resized: ./414976-shoes-beach.jpg\n",
      "Done\n",
      "Resized: ./aesthetic nike shoe.png\n",
      "Done\n",
      "Resized: ./forest.jpg\n",
      "Done\n",
      "Resized: ./logo.png\n",
      "Done\n",
      "Resized: ./adidas\\Adidas Adifom SLTN.webp\n",
      "Done\n",
      "Resized: ./adidas\\Adidas Daily 3.0.webp\n",
      "Done\n",
      "Resized: ./adidas\\Adidas Forum 84 low.webp\n",
      "Done\n",
      "Resized: ./adidas\\Adidas Postmove Mid.webp\n",
      "Done\n",
      "Resized: ./adidas\\Adidas Superstar.webp\n",
      "Done\n",
      "Resized: ./adidas\\Adidas Ultraboost 22.webp\n",
      "Done\n",
      "Resized: ./adidas\\Lite Racer Adapt 5.0.webp\n",
      "Done\n",
      "Resized: ./adidas\\Ultra 4DFWD.webp\n",
      "Done\n",
      "Resized: ./jordan\\Air Jordan 13 retro.webp\n",
      "Done\n",
      "Resized: ./jordan\\Air Jordan 4 Retro Su.webp\n",
      "Done\n",
      "Resized: ./jordan\\Air Jordan 5 Retro.webp\n",
      "Done\n",
      "Resized: ./jordan\\Air Jordan 7 Retro.webp\n",
      "Done\n",
      "Resized: ./jordan\\Air Jordan 9.jpeg\n",
      "Done\n",
      "Resized: ./jordan\\Air Jordan 9_1.jpeg\n",
      "Done\n",
      "Resized: ./jordan\\Air Jordan 9_2.jpeg\n",
      "Done\n",
      "Resized: ./jordan\\Air Jordan 9_3.jpeg\n",
      "Done\n",
      "Resized: ./jordan\\Air Jordan Dub Zero.webp\n",
      "Done\n",
      "Resized: ./jordan\\Air Jordan Series mid.webp\n",
      "Done\n",
      "Resized: ./jordan\\Jordan Delta 3 Mid.webp\n",
      "Done\n",
      "Resized: ./jordan\\Jordan Granville Pro.webp\n",
      "Done\n",
      "Resized: ./jordan\\Jordan Max Aura 4.webp\n",
      "Done\n",
      "Resized: ./jordan\\Jordan One Take 4.webp\n",
      "Done\n",
      "Resized: ./jordan\\Jumpman Two Trey.webp\n",
      "Done\n",
      "Resized: ./logos\\adidas logo.jpg\n",
      "Done\n",
      "Resized: ./logos\\nike logo.webp\n",
      "Done\n",
      "Resized: ./logos\\nike logo1.webp\n",
      "Done\n",
      "Resized: ./new_balance\\580.webp\n",
      "Done\n",
      "Resized: ./new_balance\\9060.webp\n",
      "Done\n",
      "Resized: ./new_balance\\950.webp\n",
      "Done\n",
      "Resized: ./nike\\air-max-alpha-trainer-5_.webp\n",
      "Done\n",
      "Resized: ./nike\\Nike Air Force 1 Sculpt.webp\n",
      "Done\n",
      "Resized: ./nike\\Nike Air Force 107 WB.webp\n",
      "Done\n",
      "Resized: ./nike\\Nike Air Huarache.webp\n",
      "Done\n",
      "Resized: ./nike\\Nike Air Max 270.webp\n",
      "Done\n",
      "Resized: ./nike\\Nike Air Max 95.webp\n",
      "Done\n",
      "Resized: ./nike\\Nike Air VaporMax 2021.webp\n",
      "Done\n",
      "Resized: ./nike\\Nike Air VaporMax Plus.webp\n",
      "Done\n",
      "Resized: ./nike\\Nike Court Vision Low Next Nature.webp\n",
      "Done\n",
      "Resized: ./nike\\Nike Dunk High v2.webp\n",
      "Done\n",
      "Resized: ./nike\\Nike_Court_Vision.jpg\n",
      "Done\n",
      "Resized: ./puma\\Caven-Mid-Boot-Sneakers.webp\n",
      "Done\n",
      "Resized: ./puma\\Mirage-Sport-Earth-Tones-Sneakers.webp\n",
      "Done\n",
      "Resized: ./puma\\Slipstream-Leather-Sneakers.webp\n",
      "Done\n",
      "Resized: ./puma\\Weekend-OG-Sneakers.webp\n",
      "Done\n"
     ]
    }
   ],
   "source": [
    "resize_images(dir_)"
   ]
  },
  {
   "cell_type": "code",
   "execution_count": null,
   "id": "65f54537",
   "metadata": {},
   "outputs": [],
   "source": []
  }
 ],
 "metadata": {
  "kernelspec": {
   "display_name": "Python 3 (ipykernel)",
   "language": "python",
   "name": "python3"
  },
  "language_info": {
   "codemirror_mode": {
    "name": "ipython",
    "version": 3
   },
   "file_extension": ".py",
   "mimetype": "text/x-python",
   "name": "python",
   "nbconvert_exporter": "python",
   "pygments_lexer": "ipython3",
   "version": "3.10.9"
  }
 },
 "nbformat": 4,
 "nbformat_minor": 5
}
